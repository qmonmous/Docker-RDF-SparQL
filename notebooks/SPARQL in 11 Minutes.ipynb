{
 "cells": [
  {
   "cell_type": "markdown",
   "metadata": {},
   "source": [
    "# Exemples \"SPARQL in 11 Minutes\"\n",
    "\n",
    "Ces exemples s'appuient sur un jeu de données utilisant le vocabulaire vocabulaire [VCARD](https://www.w3.org/TR/vcard-rdf/) et s'appuient sur l'exemple évoqué dans la vidéo disponible à l'adresse: <https://www.youtube.com/watch?v=FvGndkpa4K0>\n",
    "\n",
    "Il interroge le graphe suivant:\n",
    "\n",
    "```turtle\n",
    "@prefix vcard: <http://www.w3.org/2006/vcard/ns#> .\n",
    "@prefix sn: <http://www.snee.com/hr/> .\n",
    "\n",
    "sn:emp1   vcard:given-name   \"Heidi\" .\n",
    "sn:emp1   vcard:family-name   \"Smith\" .\n",
    "sn:emp1   vcard:title   \"CEO\" .\n",
    "sn:emp1   sn:hireDate   \"2015-01-13\" .\n",
    "sn:emp1   sn:completedOrientation   \"2015-01-30\" .\n",
    "\n",
    "sn:emp2   vcard:given-name   \"John\" .\n",
    "sn:emp2   vcard:family-name   \"Smith\" .\n",
    "sn:emp2   sn:hireDate   \"2015-01-28\" .\n",
    "sn:emp2   vcard:title   \"Engineer\" .\n",
    "sn:emp2   sn:completedOrientation   \"2015-01-30\" .\n",
    "sn:emp2   sn:completedOrientation   \"2015-03-15\" .\n",
    "\n",
    "sn:emp3   vcard:given-name   \"Francis\" .\n",
    "sn:emp3   vcard:family-name   \"Jones\" .\n",
    "sn:emp3   sn:hireDate   \"2015-02-13\" .\n",
    "sn:emp3   vcard:title   \"Vice President\" .\n",
    "\n",
    "sn:emp4   vcard:given-name   \"Jane\" .\n",
    "sn:emp4   vcard:family-name   \"Berger\" .\n",
    "sn:emp4   sn:hireDate   \"2015-03-10\" .\n",
    "sn:emp4   vcard:title   \"Sales\" .\n",
    "```"
   ]
  },
  {
   "cell_type": "markdown",
   "metadata": {},
   "source": [
    "## Configuration du point d'accès\n",
    "\n",
    "Cette configuration est requise par le noyau de `jupyter` pour atteindre le point d'accès SPARQL"
   ]
  },
  {
   "cell_type": "code",
   "execution_count": 3,
   "metadata": {},
   "outputs": [
    {
     "data": {
      "text/html": [
       "<div class=\"krn-spql\"><div class=\"magic\">Endpoint set to: http://sparql:3030/sparqlIn11Minutes/sparql</div><div class=\"magic\">Return format: ANY</div></div>"
      ],
      "text/plain": [
       "Endpoint set to: http://sparql:3030/sparqlIn11Minutes/sparql\n",
       "Return format: ANY\n"
      ]
     },
     "metadata": {},
     "output_type": "display_data"
    }
   ],
   "source": [
    "%endpoint http://sparql:3030/sparqlIn11Minutes/sparql\n",
    "%format any\n",
    "\n",
    "# Paramétrage du point d'accès"
   ]
  },
  {
   "cell_type": "markdown",
   "metadata": {},
   "source": [
    "## Requête simple\n",
    "\n",
    "Liste des employés dont le nom de famille est `Smith`\n",
    "\n",
    "SPARQL utilise des prefixes pour ne pas avoir de longues _URI_\n",
    "\n",
    "Pour la pluspart des requêtes _SPARQL_, il vaut mieux regarder la clause `WHERE` d'abord, parcequ'elle décrit les triplets qu'on veut retirer du jeu de données: elle exprime les sujets, prédicats et objects qui sont respectivement en adéquation. Les variables commencent par le caractère `?` (ou `$` ) et sont substituées dans le résultat.\n",
    "\n",
    "La clause `SELECT` décrit les variables qu'on veut sélectionner."
   ]
  },
  {
   "cell_type": "code",
   "execution_count": 4,
   "metadata": {},
   "outputs": [
    {
     "data": {
      "text/html": [
       "<div class=\"krn-spql\"><table><tr class=hdr><th>person</th></tr><tr class=odd><td class=val><a href=\"http://www.snee.com/hr/emp1\" target=\"_other\">http://www.snee.com/hr/emp1</a></td></tr><tr class=even><td class=val><a href=\"http://www.snee.com/hr/emp2\" target=\"_other\">http://www.snee.com/hr/emp2</a></td></tr></table><div class=\"tinfo\">Total: 2, Shown: 2</div></div>"
      ]
     },
     "metadata": {},
     "output_type": "display_data"
    }
   ],
   "source": [
    "# 3m04s\n",
    "\n",
    "PREFIX vcard: <http://www.w3.org/2006/vcard/ns#> \n",
    "\n",
    "SELECT ?person \n",
    "WHERE  \n",
    "{ \n",
    "   ?person vcard:family-name \"Smith\" . \n",
    "}"
   ]
  },
  {
   "cell_type": "code",
   "execution_count": 5,
   "metadata": {},
   "outputs": [
    {
     "data": {
      "text/html": [
       "<div class=\"krn-spql\"><table><tr class=hdr><th>person</th></tr><tr class=odd><td class=val><a href=\"http://www.snee.com/hr/emp3\" target=\"_other\">http://www.snee.com/hr/emp3</a></td></tr></table><div class=\"tinfo\">Total: 1, Shown: 1</div></div>"
      ]
     },
     "metadata": {},
     "output_type": "display_data"
    }
   ],
   "source": [
    "PREFIX vcard: <http://www.w3.org/2006/vcard/ns#> \n",
    "\n",
    "SELECT ?person \n",
    "WHERE  \n",
    "{ \n",
    "   ?person vcard:title \"Vice President\" . \n",
    "}"
   ]
  },
  {
   "cell_type": "markdown",
   "metadata": {},
   "source": [
    "## Nom / Prénom\n",
    "\n",
    "Récupérer le prénom associé au nom.\n",
    "Les triplets de la clausse `WHERE` doivent correspondre concomitamment (ligne 1 `ET` ligne 2):\n",
    "La valeur de la variable `?person` de la première ligne de la clause est mémorisée et substituée comme valeur de la deuxième occurence de `?person`."
   ]
  },
  {
   "cell_type": "code",
   "execution_count": 6,
   "metadata": {},
   "outputs": [
    {
     "data": {
      "text/html": [
       "<div class=\"krn-spql\"><table><tr class=hdr><th>person</th>\n",
       "<th>givenName</th></tr><tr class=odd><td class=val><a href=\"http://www.snee.com/hr/emp1\" target=\"_other\">http://www.snee.com/hr/emp1</a></td>\n",
       "<td class=val>Heidi</td></tr><tr class=even><td class=val><a href=\"http://www.snee.com/hr/emp2\" target=\"_other\">http://www.snee.com/hr/emp2</a></td>\n",
       "<td class=val>John</td></tr></table><div class=\"tinfo\">Total: 2, Shown: 2</div></div>"
      ]
     },
     "metadata": {},
     "output_type": "display_data"
    }
   ],
   "source": [
    "PREFIX vcard: <http://www.w3.org/2006/vcard/ns#> \n",
    "\n",
    "SELECT ?person ?givenName\n",
    "WHERE \n",
    "{ \n",
    "   ?person vcard:family-name \"Smith\" . \n",
    "   ?person vcard:given-name ?givenName .\n",
    "}"
   ]
  },
  {
   "cell_type": "markdown",
   "metadata": {},
   "source": [
    "## Réduction des résultats\n",
    "\n",
    "### Sélection de la date d'embauche"
   ]
  },
  {
   "cell_type": "code",
   "execution_count": 7,
   "metadata": {},
   "outputs": [
    {
     "data": {
      "text/html": [
       "<div class=\"krn-spql\"><table><tr class=hdr><th>givenName</th>\n",
       "<th>familyName</th>\n",
       "<th>hireDate</th></tr><tr class=odd><td class=val>Jane</td>\n",
       "<td class=val>Berger</td>\n",
       "<td class=val>2015-03-10</td></tr><tr class=even><td class=val>Heidi</td>\n",
       "<td class=val>Smith</td>\n",
       "<td class=val>2015-01-13</td></tr><tr class=odd><td class=val>John</td>\n",
       "<td class=val>Smith</td>\n",
       "<td class=val>2015-01-28</td></tr><tr class=even><td class=val>Francis</td>\n",
       "<td class=val>Jones</td>\n",
       "<td class=val>2015-02-13</td></tr></table><div class=\"tinfo\">Total: 4, Shown: 4</div></div>"
      ]
     },
     "metadata": {},
     "output_type": "display_data"
    }
   ],
   "source": [
    "PREFIX vcard: <http://www.w3.org/2006/vcard/ns#> \n",
    "PREFIX sn: <http://www.snee.com/hr/> \n",
    "\n",
    "SELECT ?givenName ?familyName ?hireDate\n",
    "WHERE \n",
    "{ \n",
    "   ?person vcard:given-name ?givenName .\n",
    "   ?person vcard:family-name ?familyName . \n",
    "   ?person sn:hireDate ?hireDate .\n",
    "}"
   ]
  },
  {
   "cell_type": "markdown",
   "metadata": {},
   "source": [
    "### Filtrage des résultats\n",
    "\n",
    "Sélection des enregistrements telles que la date d'embauche est antérieure au 1er Mars 2015."
   ]
  },
  {
   "cell_type": "code",
   "execution_count": 8,
   "metadata": {},
   "outputs": [
    {
     "data": {
      "text/html": [
       "<div class=\"krn-spql\"><table><tr class=hdr><th>givenName</th>\n",
       "<th>familyName</th>\n",
       "<th>hireDate</th></tr><tr class=odd><td class=val>Heidi</td>\n",
       "<td class=val>Smith</td>\n",
       "<td class=val>2015-01-13</td></tr><tr class=even><td class=val>John</td>\n",
       "<td class=val>Smith</td>\n",
       "<td class=val>2015-01-28</td></tr><tr class=odd><td class=val>Francis</td>\n",
       "<td class=val>Jones</td>\n",
       "<td class=val>2015-02-13</td></tr></table><div class=\"tinfo\">Total: 3, Shown: 3</div></div>"
      ]
     },
     "metadata": {},
     "output_type": "display_data"
    }
   ],
   "source": [
    "PREFIX vcard: <http://www.w3.org/2006/vcard/ns#> \n",
    "PREFIX sn: <http://www.snee.com/hr/> \n",
    "\n",
    "SELECT ?givenName ?familyName ?hireDate\n",
    "WHERE \n",
    "{ \n",
    "   ?person vcard:given-name ?givenName .\n",
    "   ?person vcard:family-name ?familyName . \n",
    "   ?person sn:hireDate ?hireDate . \n",
    "   FILTER(?hireDate < \"2015-03-01\")\n",
    "}"
   ]
  },
  {
   "cell_type": "markdown",
   "metadata": {},
   "source": [
    "## Critère supplémentaires\n",
    "\n",
    "Il faut que l'ensemble des triplets correspondent pour qu'ils fassent parti des résultats "
   ]
  },
  {
   "cell_type": "code",
   "execution_count": 9,
   "metadata": {},
   "outputs": [
    {
     "data": {
      "text/html": [
       "<div class=\"krn-spql\"><table><tr class=hdr><th>givenName</th>\n",
       "<th>familyName</th>\n",
       "<th>oDate</th></tr><tr class=odd><td class=val>Heidi</td>\n",
       "<td class=val>Smith</td>\n",
       "<td class=val>2015-01-30</td></tr><tr class=even><td class=val>John</td>\n",
       "<td class=val>Smith</td>\n",
       "<td class=val>2015-01-30</td></tr><tr class=odd><td class=val>John</td>\n",
       "<td class=val>Smith</td>\n",
       "<td class=val>2015-03-15</td></tr></table><div class=\"tinfo\">Total: 3, Shown: 3</div></div>"
      ]
     },
     "metadata": {},
     "output_type": "display_data"
    }
   ],
   "source": [
    "PREFIX vcard: <http://www.w3.org/2006/vcard/ns#> \n",
    "PREFIX sn: <http://www.snee.com/hr/> \n",
    "\n",
    "SELECT ?givenName ?familyName ?oDate\n",
    "WHERE \n",
    "{ \n",
    "   ?person vcard:given-name ?givenName .\n",
    "   ?person vcard:family-name ?familyName . \n",
    "   ?person sn:completedOrientation  ?oDate . \n",
    "}"
   ]
  },
  {
   "cell_type": "markdown",
   "metadata": {},
   "source": [
    "Pour qu'une clause soit optionnelles, il faut le spécifier avec `OPTIONAL`"
   ]
  },
  {
   "cell_type": "code",
   "execution_count": 11,
   "metadata": {},
   "outputs": [
    {
     "data": {
      "text/html": [
       "<div class=\"krn-spql\"><table><tr class=hdr><th>givenName</th>\n",
       "<th>familyName</th>\n",
       "<th>oDate</th></tr><tr class=odd><td class=val>Jane</td>\n",
       "<td class=val>Berger</td>\n",
       "<td class=val></td></tr><tr class=even><td class=val>Heidi</td>\n",
       "<td class=val>Smith</td>\n",
       "<td class=val>2015-01-30</td></tr><tr class=odd><td class=val>John</td>\n",
       "<td class=val>Smith</td>\n",
       "<td class=val>2015-01-30</td></tr><tr class=even><td class=val>John</td>\n",
       "<td class=val>Smith</td>\n",
       "<td class=val>2015-03-15</td></tr><tr class=odd><td class=val>Francis</td>\n",
       "<td class=val>Jones</td>\n",
       "<td class=val></td></tr></table><div class=\"tinfo\">Total: 5, Shown: 5</div></div>"
      ]
     },
     "metadata": {},
     "output_type": "display_data"
    }
   ],
   "source": [
    "PREFIX vcard: <http://www.w3.org/2006/vcard/ns#> \n",
    "PREFIX sn: <http://www.snee.com/hr/> \n",
    "\n",
    "SELECT ?givenName ?familyName ?oDate\n",
    "WHERE \n",
    "{ \n",
    "   ?person vcard:given-name ?givenName .\n",
    "   ?person vcard:family-name ?familyName . \n",
    "   OPTIONAL { ?person sn:completedOrientation  ?oDate . }\n",
    "}"
   ]
  },
  {
   "cell_type": "markdown",
   "metadata": {},
   "source": [
    "## Négation\n",
    "\n",
    "Sélection d'un ensemble de variables pour lesquelles une clause n'est pas vérifiée: `NOT EXISTS`"
   ]
  },
  {
   "cell_type": "code",
   "execution_count": 12,
   "metadata": {},
   "outputs": [
    {
     "data": {
      "text/html": [
       "<div class=\"krn-spql\"><table><tr class=hdr><th>givenName</th>\n",
       "<th>familyName</th></tr><tr class=odd><td class=val>Jane</td>\n",
       "<td class=val>Berger</td></tr><tr class=even><td class=val>Francis</td>\n",
       "<td class=val>Jones</td></tr></table><div class=\"tinfo\">Total: 2, Shown: 2</div></div>"
      ]
     },
     "metadata": {},
     "output_type": "display_data"
    }
   ],
   "source": [
    "PREFIX vcard: <http://www.w3.org/2006/vcard/ns#> \n",
    "PREFIX sn: <http://www.snee.com/hr/> \n",
    "\n",
    "SELECT ?givenName ?familyName\n",
    "WHERE \n",
    "{ \n",
    "   ?person vcard:given-name ?givenName .\n",
    "   ?person vcard:family-name ?familyName . \n",
    "   NOT EXISTS { ?person sn:completedOrientation  ?oDate . }\n",
    "}"
   ]
  },
  {
   "cell_type": "markdown",
   "metadata": {},
   "source": [
    "## Affectation de variables\n",
    "\n",
    "Affectation d'une variable avec une valeur: `BIND(… AS ?…)`"
   ]
  },
  {
   "cell_type": "code",
   "execution_count": 13,
   "metadata": {},
   "outputs": [
    {
     "data": {
      "text/html": [
       "<div class=\"krn-spql\"><table><tr class=hdr><th>givenName</th>\n",
       "<th>familyName</th>\n",
       "<th>someVariable</th></tr><tr class=odd><td class=val>Jane</td>\n",
       "<td class=val>Berger</td>\n",
       "<td class=val>some value</td></tr><tr class=even><td class=val>Heidi</td>\n",
       "<td class=val>Smith</td>\n",
       "<td class=val>some value</td></tr><tr class=odd><td class=val>John</td>\n",
       "<td class=val>Smith</td>\n",
       "<td class=val>some value</td></tr><tr class=even><td class=val>Francis</td>\n",
       "<td class=val>Jones</td>\n",
       "<td class=val>some value</td></tr></table><div class=\"tinfo\">Total: 4, Shown: 4</div></div>"
      ]
     },
     "metadata": {},
     "output_type": "display_data"
    }
   ],
   "source": [
    "PREFIX vcard: <http://www.w3.org/2006/vcard/ns#>\n",
    "PREFIX sn: <http://www.snee.com/hr/>\n",
    "\n",
    "SELECT ?givenName ?familyName ?someVariable WHERE {\n",
    "  ?person vcard:given-name ?givenName ;\n",
    "          vcard:family-name ?familyName .\n",
    "  BIND(\"some value\" AS ?someVariable)\n",
    "}"
   ]
  },
  {
   "cell_type": "markdown",
   "metadata": {},
   "source": [
    "La variable peut être calculée \n",
    "\n",
    "> ici avec l'opération de\n",
    "concaténation `CONCAT`"
   ]
  },
  {
   "cell_type": "code",
   "execution_count": 14,
   "metadata": {},
   "outputs": [
    {
     "data": {
      "text/html": [
       "<div class=\"krn-spql\"><table><tr class=hdr><th>givenName</th>\n",
       "<th>familyName</th>\n",
       "<th>fullName</th></tr><tr class=odd><td class=val>Jane</td>\n",
       "<td class=val>Berger</td>\n",
       "<td class=val>Jane Berger</td></tr><tr class=even><td class=val>Heidi</td>\n",
       "<td class=val>Smith</td>\n",
       "<td class=val>Heidi Smith</td></tr><tr class=odd><td class=val>John</td>\n",
       "<td class=val>Smith</td>\n",
       "<td class=val>John Smith</td></tr><tr class=even><td class=val>Francis</td>\n",
       "<td class=val>Jones</td>\n",
       "<td class=val>Francis Jones</td></tr></table><div class=\"tinfo\">Total: 4, Shown: 4</div></div>"
      ]
     },
     "metadata": {},
     "output_type": "display_data"
    }
   ],
   "source": [
    "PREFIX vcard: <http://www.w3.org/2006/vcard/ns#> \n",
    "PREFIX sn: <http://www.snee.com/hr/> \n",
    "\n",
    "SELECT ?givenName ?familyName ?fullName\n",
    "WHERE { \n",
    "  ?person vcard:given-name ?givenName .  \n",
    "  ?person vcard:family-name ?familyName .\n",
    "  BIND(concat(?givenName,\" \",?familyName) AS ?fullName) \n",
    "}"
   ]
  },
  {
   "cell_type": "markdown",
   "metadata": {},
   "source": [
    "## Construction de triplets\n",
    "\n",
    "L'opérateur `CONSTRUCT` permet de fournir un résultat sous forme de graphe: la valeur de retour est un graph construit à partir des triplet définis par l'opérateur.\n",
    "\n",
    "> Ici on produit un équivalent dans le vocabulaire [FOAF](http://xmlns.com/foaf/spec/) des information spécifiées avec le vocabulaire [VCARD](https://www.w3.org/TR/vcard-rdf/)"
   ]
  },
  {
   "cell_type": "code",
   "execution_count": 15,
   "metadata": {},
   "outputs": [
    {
     "data": {
      "text/html": [
       "<div class=\"krn-spql\"><table><tr class=hdr><th>subject</th>\n",
       "<th>predicate</th>\n",
       "<th>object</th></tr><tr class=odd><td class=val><a href=\"http://www.snee.com/hr/emp1\" target=\"_other\">http://www.snee.com/hr/emp1</a></td>\n",
       "<td class=val><a href=\"http://xmlns.com/foaf/0.1/familyName\" target=\"_other\">http://xmlns.com/foaf/0.1/familyName</a></td>\n",
       "<td class=val>Smith</td></tr><tr class=even><td class=val><a href=\"http://www.snee.com/hr/emp1\" target=\"_other\">http://www.snee.com/hr/emp1</a></td>\n",
       "<td class=val><a href=\"http://xmlns.com/foaf/0.1/givenName\" target=\"_other\">http://xmlns.com/foaf/0.1/givenName</a></td>\n",
       "<td class=val>Heidi</td></tr><tr class=odd><td class=val><a href=\"http://www.snee.com/hr/emp3\" target=\"_other\">http://www.snee.com/hr/emp3</a></td>\n",
       "<td class=val><a href=\"http://www.w3.org/1999/02/22-rdf-syntax-ns#type\" target=\"_other\">http://www.w3.org/1999/02/22-rdf-syntax-ns#type</a></td>\n",
       "<td class=val><a href=\"http://xmlns.com/foaf/0.1/Person\" target=\"_other\">http://xmlns.com/foaf/0.1/Person</a></td></tr><tr class=even><td class=val><a href=\"http://www.snee.com/hr/emp4\" target=\"_other\">http://www.snee.com/hr/emp4</a></td>\n",
       "<td class=val><a href=\"http://xmlns.com/foaf/0.1/familyName\" target=\"_other\">http://xmlns.com/foaf/0.1/familyName</a></td>\n",
       "<td class=val>Berger</td></tr><tr class=odd><td class=val><a href=\"http://www.snee.com/hr/emp3\" target=\"_other\">http://www.snee.com/hr/emp3</a></td>\n",
       "<td class=val><a href=\"http://xmlns.com/foaf/0.1/givenName\" target=\"_other\">http://xmlns.com/foaf/0.1/givenName</a></td>\n",
       "<td class=val>Francis</td></tr><tr class=even><td class=val><a href=\"http://www.snee.com/hr/emp2\" target=\"_other\">http://www.snee.com/hr/emp2</a></td>\n",
       "<td class=val><a href=\"http://xmlns.com/foaf/0.1/givenName\" target=\"_other\">http://xmlns.com/foaf/0.1/givenName</a></td>\n",
       "<td class=val>John</td></tr><tr class=odd><td class=val><a href=\"http://www.snee.com/hr/emp1\" target=\"_other\">http://www.snee.com/hr/emp1</a></td>\n",
       "<td class=val><a href=\"http://www.w3.org/1999/02/22-rdf-syntax-ns#type\" target=\"_other\">http://www.w3.org/1999/02/22-rdf-syntax-ns#type</a></td>\n",
       "<td class=val><a href=\"http://xmlns.com/foaf/0.1/Person\" target=\"_other\">http://xmlns.com/foaf/0.1/Person</a></td></tr><tr class=even><td class=val><a href=\"http://www.snee.com/hr/emp2\" target=\"_other\">http://www.snee.com/hr/emp2</a></td>\n",
       "<td class=val><a href=\"http://xmlns.com/foaf/0.1/name\" target=\"_other\">http://xmlns.com/foaf/0.1/name</a></td>\n",
       "<td class=val>John Smith</td></tr><tr class=odd><td class=val><a href=\"http://www.snee.com/hr/emp3\" target=\"_other\">http://www.snee.com/hr/emp3</a></td>\n",
       "<td class=val><a href=\"http://xmlns.com/foaf/0.1/familyName\" target=\"_other\">http://xmlns.com/foaf/0.1/familyName</a></td>\n",
       "<td class=val>Jones</td></tr><tr class=even><td class=val><a href=\"http://www.snee.com/hr/emp2\" target=\"_other\">http://www.snee.com/hr/emp2</a></td>\n",
       "<td class=val><a href=\"http://xmlns.com/foaf/0.1/familyName\" target=\"_other\">http://xmlns.com/foaf/0.1/familyName</a></td>\n",
       "<td class=val>Smith</td></tr><tr class=odd><td class=val><a href=\"http://www.snee.com/hr/emp2\" target=\"_other\">http://www.snee.com/hr/emp2</a></td>\n",
       "<td class=val><a href=\"http://www.w3.org/1999/02/22-rdf-syntax-ns#type\" target=\"_other\">http://www.w3.org/1999/02/22-rdf-syntax-ns#type</a></td>\n",
       "<td class=val><a href=\"http://xmlns.com/foaf/0.1/Person\" target=\"_other\">http://xmlns.com/foaf/0.1/Person</a></td></tr><tr class=even><td class=val><a href=\"http://www.snee.com/hr/emp1\" target=\"_other\">http://www.snee.com/hr/emp1</a></td>\n",
       "<td class=val><a href=\"http://xmlns.com/foaf/0.1/name\" target=\"_other\">http://xmlns.com/foaf/0.1/name</a></td>\n",
       "<td class=val>Heidi Smith</td></tr><tr class=odd><td class=val><a href=\"http://www.snee.com/hr/emp4\" target=\"_other\">http://www.snee.com/hr/emp4</a></td>\n",
       "<td class=val><a href=\"http://www.w3.org/1999/02/22-rdf-syntax-ns#type\" target=\"_other\">http://www.w3.org/1999/02/22-rdf-syntax-ns#type</a></td>\n",
       "<td class=val><a href=\"http://xmlns.com/foaf/0.1/Person\" target=\"_other\">http://xmlns.com/foaf/0.1/Person</a></td></tr><tr class=even><td class=val><a href=\"http://www.snee.com/hr/emp3\" target=\"_other\">http://www.snee.com/hr/emp3</a></td>\n",
       "<td class=val><a href=\"http://xmlns.com/foaf/0.1/name\" target=\"_other\">http://xmlns.com/foaf/0.1/name</a></td>\n",
       "<td class=val>Francis Jones</td></tr><tr class=odd><td class=val><a href=\"http://www.snee.com/hr/emp4\" target=\"_other\">http://www.snee.com/hr/emp4</a></td>\n",
       "<td class=val><a href=\"http://xmlns.com/foaf/0.1/givenName\" target=\"_other\">http://xmlns.com/foaf/0.1/givenName</a></td>\n",
       "<td class=val>Jane</td></tr><tr class=even><td class=val><a href=\"http://www.snee.com/hr/emp4\" target=\"_other\">http://www.snee.com/hr/emp4</a></td>\n",
       "<td class=val><a href=\"http://xmlns.com/foaf/0.1/name\" target=\"_other\">http://xmlns.com/foaf/0.1/name</a></td>\n",
       "<td class=val>Jane Berger</td></tr></table><div class=\"tinfo\">Shown: 16, Total rows: 16</div></div>"
      ]
     },
     "metadata": {},
     "output_type": "display_data"
    }
   ],
   "source": [
    "PREFIX vcard: <http://www.w3.org/2006/vcard/ns#>\n",
    "PREFIX sn: <http://www.snee.com/hr/>\n",
    "PREFIX foaf: <http://xmlns.com/foaf/0.1/>\n",
    "PREFIX rdf: <http://www.w3.org/1999/02/22-rdf-syntax-ns#>\n",
    "\n",
    "CONSTRUCT {\n",
    "  ?person rdf:type foaf:Person .\n",
    "  ?person foaf:givenName ?givenName .\n",
    "  ?person foaf:familyName ?familyName .\n",
    "  ?person foaf:name ?fullName .\n",
    "} WHERE {\n",
    "  ?person vcard:given-name ?givenName .\n",
    "  ?person vcard:family-name ?familyName .\n",
    "  BIND(concat(?givenName,\" \",?familyName) AS ?fullName)\n",
    "}"
   ]
  },
  {
   "cell_type": "code",
   "execution_count": null,
   "metadata": {},
   "outputs": [],
   "source": []
  }
 ],
 "metadata": {
  "kernelspec": {
   "display_name": "SPARQL",
   "language": "sparql",
   "name": "sparql"
  },
  "language_info": {
   "codemirror_mode": {
    "name": "sparql"
   },
   "mimetype": "application/sparql-query",
   "name": "sparql",
   "pygments_lexer": "sparql-nb"
  }
 },
 "nbformat": 4,
 "nbformat_minor": 2
}
