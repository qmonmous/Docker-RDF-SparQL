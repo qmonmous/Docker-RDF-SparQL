{
 "cells": [
  {
   "cell_type": "markdown",
   "metadata": {},
   "source": [
    "# SPARQL 1.1 Overview\n",
    "\n",
    "> Exemples tirés de <https://www.w3.org/TR/sparql11-overview/>\n",
    "\n",
    "## Exemple\n",
    "\n",
    "Les informations utilisée dans le _Triple-Store_ sont constituées par le graphe suivant:\n",
    "\n",
    "```turtle\n",
    "@prefix foaf: <http://xmlns.com/foaf/0.1/> .\n",
    "@prefix rdfs: <http://www.w3.org/2000/01/rdf-schema#> .\n",
    "\n",
    "<http://example.org/alice#me> a foaf:Person .\n",
    "<http://example.org/alice#me> foaf:name \"Alice\" .\n",
    "<http://example.org/alice#me> foaf:mbox <mailto:alice@example.org> .\n",
    "<http://example.org/alice#me> foaf:knows <http://example.org/bob#me> .\n",
    "<http://example.org/bob#me> foaf:knows <http://example.org/alice#me> .\n",
    "<http://example.org/bob#me> foaf:name \"Bob\" .\n",
    "<http://example.org/alice#me> foaf:knows <http://example.org/charlie#me> .\n",
    "<http://example.org/charlie#me> foaf:knows <http://example.org/alice#me> .\n",
    "<http://example.org/charlie#me> foaf:name \"Charlie\" .\n",
    "<http://example.org/alice#me> foaf:knows <http://example.org/snoopy> .\n",
    "<http://example.org/snoopy> foaf:name \"Snoopy\"@en .\n",
    "```"
   ]
  },
  {
   "cell_type": "markdown",
   "metadata": {},
   "source": [
    "## Première requête\n",
    "\n",
    "A ce stade, les information sont stockées. Maintenant il suffit de les sélectionner. Un autre point d'accès est choisi (en lecture) pour faire les requêtes: `http://sparql:3030/sparql-overview/sparql`."
   ]
  },
  {
   "cell_type": "code",
   "execution_count": 2,
   "metadata": {},
   "outputs": [
    {
     "data": {
      "text/html": [
       "<div class=\"krn-spql\"><div class=\"magic\">Endpoint set to: http://sparql:3030/sparql-overview/sparql</div></div>"
      ],
      "text/plain": [
       "Endpoint set to: http://sparql:3030/sparql-overview/sparql\n"
      ]
     },
     "metadata": {},
     "output_type": "display_data"
    },
    {
     "data": {
      "text/html": [
       "<div class=\"krn-spql\"><table><tr class=hdr><th>name</th>\n",
       "<th>count</th></tr><tr class=odd><td class=val>Alice</td>\n",
       "<td class=val>3</td></tr><tr class=even><td class=val>Charlie</td>\n",
       "<td class=val>1</td></tr><tr class=odd><td class=val>Bob</td>\n",
       "<td class=val>1</td></tr></table><div class=\"tinfo\">Total: 3, Shown: 3</div></div>"
      ]
     },
     "metadata": {},
     "output_type": "display_data"
    }
   ],
   "source": [
    "%endpoint http://sparql:3030/sparql-overview/sparql\n",
    "\n",
    "PREFIX foaf: <http://xmlns.com/foaf/0.1/>\n",
    "SELECT ?name (COUNT(?friend) AS ?count)\n",
    "WHERE { \n",
    "    ?person foaf:name ?name . \n",
    "    ?person foaf:knows ?friend . \n",
    "} GROUP BY ?person ?name"
   ]
  },
  {
   "cell_type": "markdown",
   "metadata": {},
   "source": [
    "## Formats\n",
    "\n",
    "Les données peuvent être exportées en plusieurs formats\n",
    "\n",
    "### Format XML"
   ]
  },
  {
   "cell_type": "code",
   "execution_count": 3,
   "metadata": {},
   "outputs": [
    {
     "data": {
      "text/html": [
       "<div class=\"krn-spql\"><div class=\"magic\">Display: raw</div></div>"
      ],
      "text/plain": [
       "Display: raw\n"
      ]
     },
     "metadata": {},
     "output_type": "display_data"
    },
    {
     "data": {
      "text/plain": [
       "<?xml version=\"1.0\"?>\n",
       "<sparql xmlns=\"http://www.w3.org/2005/sparql-results#\">\n",
       "  <head>\n",
       "    <variable name=\"name\"/>\n",
       "    <variable name=\"count\"/>\n",
       "  </head>\n",
       "  <results>\n",
       "    <result>\n",
       "      <binding name=\"name\">\n",
       "        <literal>Alice</literal>\n",
       "      </binding>\n",
       "      <binding name=\"count\">\n",
       "        <literal datatype=\"http://www.w3.org/2001/XMLSchema#integer\">3</literal>\n",
       "      </binding>\n",
       "    </result>\n",
       "    <result>\n",
       "      <binding name=\"name\">\n",
       "        <literal>Charlie</literal>\n",
       "      </binding>\n",
       "      <binding name=\"count\">\n",
       "        <literal datatype=\"http://www.w3.org/2001/XMLSchema#integer\">1</literal>\n",
       "      </binding>\n",
       "    </result>\n",
       "    <result>\n",
       "      <binding name=\"name\">\n",
       "        <literal>Bob</literal>\n",
       "      </binding>\n",
       "      <binding name=\"count\">\n",
       "        <literal datatype=\"http://www.w3.org/2001/XMLSchema#integer\">1</literal>\n",
       "      </binding>\n",
       "    </result>\n",
       "  </results>\n",
       "</sparql>\n"
      ]
     },
     "metadata": {},
     "output_type": "display_data"
    }
   ],
   "source": [
    "%display raw\n",
    "\n",
    "PREFIX foaf: <http://xmlns.com/foaf/0.1/>\n",
    "SELECT ?name (COUNT(?friend) AS ?count)\n",
    "WHERE { \n",
    "    ?person foaf:name ?name . \n",
    "    ?person foaf:knows ?friend . \n",
    "} GROUP BY ?person ?name"
   ]
  },
  {
   "cell_type": "markdown",
   "metadata": {},
   "source": [
    "### Format JSON"
   ]
  },
  {
   "cell_type": "code",
   "execution_count": 4,
   "metadata": {},
   "outputs": [
    {
     "data": {
      "text/html": [
       "<div class=\"krn-spql\"><div class=\"magic\">Return format: JSON</div><div class=\"magic\">Display: raw</div></div>"
      ],
      "text/plain": [
       "Return format: JSON\n",
       "Display: raw\n"
      ]
     },
     "metadata": {},
     "output_type": "display_data"
    },
    {
     "data": {
      "text/plain": [
       "{\n",
       "  \"head\": {\n",
       "    \"vars\": [\n",
       "      \"name\",\n",
       "      \"count\"\n",
       "    ]\n",
       "  },\n",
       "  \"results\": {\n",
       "    \"bindings\": [\n",
       "      {\n",
       "        \"count\": {\n",
       "          \"datatype\": \"http://www.w3.org/2001/XMLSchema#integer\",\n",
       "          \"type\": \"literal\",\n",
       "          \"value\": \"3\"\n",
       "        },\n",
       "        \"name\": {\n",
       "          \"type\": \"literal\",\n",
       "          \"value\": \"Alice\"\n",
       "        }\n",
       "      },\n",
       "      {\n",
       "        \"count\": {\n",
       "          \"datatype\": \"http://www.w3.org/2001/XMLSchema#integer\",\n",
       "          \"type\": \"literal\",\n",
       "          \"value\": \"1\"\n",
       "        },\n",
       "        \"name\": {\n",
       "          \"type\": \"literal\",\n",
       "          \"value\": \"Charlie\"\n",
       "        }\n",
       "      },\n",
       "      {\n",
       "        \"count\": {\n",
       "          \"datatype\": \"http://www.w3.org/2001/XMLSchema#integer\",\n",
       "          \"type\": \"literal\",\n",
       "          \"value\": \"1\"\n",
       "        },\n",
       "        \"name\": {\n",
       "          \"type\": \"literal\",\n",
       "          \"value\": \"Bob\"\n",
       "        }\n",
       "      }\n",
       "    ]\n",
       "  }\n",
       "}"
      ]
     },
     "metadata": {},
     "output_type": "display_data"
    }
   ],
   "source": [
    "%format json\n",
    "%display RAW\n",
    "\n",
    "PREFIX foaf: <http://xmlns.com/foaf/0.1/>\n",
    "SELECT ?name (COUNT(?friend) AS ?count)\n",
    "WHERE { \n",
    "    ?person foaf:name ?name . \n",
    "    ?person foaf:knows ?friend . \n",
    "} GROUP BY ?person ?name"
   ]
  },
  {
   "cell_type": "markdown",
   "metadata": {},
   "source": [
    "\n",
    "---\n",
    "\n",
    "## Requêtes Fédérées\n",
    "\n",
    "Certaines sous-requêtes peuvent être déléguées à d'autres points d'accès sparql"
   ]
  },
  {
   "cell_type": "code",
   "execution_count": 5,
   "metadata": {},
   "outputs": [
    {
     "data": {
      "text/html": [
       "<div class=\"krn-spql\"><div class=\"magic\">Return format: ANY</div><div class=\"magic\">Display: table</div></div>"
      ],
      "text/plain": [
       "Return format: ANY\n",
       "Display: table\n"
      ]
     },
     "metadata": {},
     "output_type": "display_data"
    },
    {
     "data": {
      "text/html": [
       "<div class=\"krn-spql\"><table><tr class=hdr><th>name</th></tr><tr class=odd><td class=val>Snoopy</td></tr></table><div class=\"tinfo\">Total: 1, Shown: 1</div></div>"
      ]
     },
     "metadata": {},
     "output_type": "display_data"
    }
   ],
   "source": [
    "%format any\n",
    "%display table\n",
    "\n",
    "PREFIX foaf: <http://xmlns.com/foaf/0.1/>\n",
    "SELECT ?name\n",
    "WHERE {\n",
    "    <http://example.org/alice#me> foaf:knows [\n",
    "        foaf:name ?name\n",
    "    ] .\n",
    "    SERVICE <http://dbpedia.org/sparql> { \n",
    "        <http://dbpedia.org/resource/Snoopy> foaf:name ?name \n",
    "    }\n",
    "}"
   ]
  },
  {
   "cell_type": "markdown",
   "metadata": {},
   "source": [
    "\n",
    "---\n",
    "\n",
    "## Raisonnement\n",
    "\n",
    "Comme `foaf:name` est `rdfs:subPropertyOf` de `rdfs:label` _(et que le raisonnement est activé dans la configuration du stockage)_:"
   ]
  },
  {
   "cell_type": "code",
   "execution_count": null,
   "metadata": {},
   "outputs": [],
   "source": [
    "%endpoint http://sparql:3030/sparql-overview/sparql\n",
    "\n",
    "prefix rdfs: <http://www.w3.org/2000/01/rdf-schema#>\n",
    "PREFIX foaf: <http://xmlns.com/foaf/0.1/>\n",
    "\n",
    "\n",
    "SELECT ?person ?label \n",
    "WHERE { \n",
    "    ?person a foaf:Person ;\n",
    "              rdfs:label ?label \n",
    "}"
   ]
  }
 ],
 "metadata": {
  "kernelspec": {
   "display_name": "SPARQL",
   "language": "sparql",
   "name": "sparql"
  },
  "language_info": {
   "codemirror_mode": {
    "name": "sparql"
   },
   "mimetype": "application/sparql-query",
   "name": "sparql",
   "pygments_lexer": "sparql-nb"
  }
 },
 "nbformat": 4,
 "nbformat_minor": 2
}
