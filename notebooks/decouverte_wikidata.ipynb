{
 "cells": [
  {
   "cell_type": "markdown",
   "metadata": {},
   "source": [
    "# Interroger wikidata\n",
    "\n",
    "## Trouver le nom des chats"
   ]
  },
  {
   "cell_type": "code",
   "execution_count": 1,
   "metadata": {},
   "outputs": [
    {
     "data": {
      "text/html": [
       "<div class=\"krn-spql\"><div class=\"magic-help\">Available magics:<br/>%auth  %display  %endpoint  %format  %graph  %header  %lang  %log  %lsmagics  %outfile  %prefix  %qparam  %show<br/><br/>%auth (basic|digest|none) &lt;username&gt; &lt;passwd&gt; : send HTTP authentication<br/>%display raw | table [withtypes] | diagram [svg|png] [withliterals] : set display format<br/>%endpoint &lt;url&gt; : set SPARQL endpoint. **REQUIRED**<br/>%format JSON | N3 | XML | any | default : set requested result format<br/>%graph &lt;uri&gt; : set default graph for the queries<br/>%header &lt;string&gt; | OFF : add a persistent header line before the query, or delete all defined headers<br/>%lang &lt;lang&gt; [...] | default | all : language(s) preferred for labels<br/>%log critical | error | warning | info | debug : set logging level<br/>%lsmagics  : list all magics<br/>%outfile &lt;filename&gt; | NONE : save raw output to a file (use &quot;%d&quot; in name to add cell number, &quot;NONE&quot; to cancel saving)<br/>%prefix &lt;name&gt; [&lt;uri&gt;] : set (or delete) a persistent URI prefix for all queries<br/>%qparam &lt;name&gt; [&lt;value&gt;] : add (or delete) a persistent custom parameter to the endpoint query<br/>%show &lt;n&gt; | all : maximum number of shown results</div></div>"
      ],
      "text/plain": [
       "Available magics:\n",
       "%auth  %display  %endpoint  %format  %graph  %header  %lang  %log  %lsmagics  %outfile  %prefix  %qparam  %show\n",
       "\n",
       "%auth (basic|digest|none) <username> <passwd> : send HTTP authentication\n",
       "%display raw | table [withtypes] | diagram [svg|png] [withliterals] : set display format\n",
       "%endpoint <url> : set SPARQL endpoint. **REQUIRED**\n",
       "%format JSON | N3 | XML | any | default : set requested result format\n",
       "%graph <uri> : set default graph for the queries\n",
       "%header <string> | OFF : add a persistent header line before the query, or delete all defined headers\n",
       "%lang <lang> [...] | default | all : language(s) preferred for labels\n",
       "%log critical | error | warning | info | debug : set logging level\n",
       "%lsmagics  : list all magics\n",
       "%outfile <filename> | NONE : save raw output to a file (use \"%d\" in name to add cell number, \"NONE\" to cancel saving)\n",
       "%prefix <name> [<uri>] : set (or delete) a persistent URI prefix for all queries\n",
       "%qparam <name> [<value>] : add (or delete) a persistent custom parameter to the endpoint query\n",
       "%show <n> | all : maximum number of shown results\n"
      ]
     },
     "metadata": {},
     "output_type": "display_data"
    }
   ],
   "source": [
    "%lsmagick"
   ]
  },
  {
   "cell_type": "code",
   "execution_count": 2,
   "metadata": {},
   "outputs": [
    {
     "data": {
      "text/html": [
       "<div class=\"krn-spql\"><div class=\"magic\">Endpoint set to: https://query.wikidata.org/sparql</div></div>"
      ],
      "text/plain": [
       "Endpoint set to: https://query.wikidata.org/sparql\n"
      ]
     },
     "metadata": {},
     "output_type": "display_data"
    },
    {
     "data": {
      "text/html": [
       "<div class=\"krn-spql\"><table><tr class=hdr><th>item</th>\n",
       "<th>itemLabel</th></tr><tr class=odd><td class=val><a href=\"http://www.wikidata.org/entity/Q58621231\" target=\"_other\">http://www.wikidata.org/entity/Q58621231</a></td>\n",
       "<td class=val>Q58621231</td></tr><tr class=even><td class=val><a href=\"http://www.wikidata.org/entity/Q24705153\" target=\"_other\">http://www.wikidata.org/entity/Q24705153</a></td>\n",
       "<td class=val>Ah Tsai</td></tr><tr class=odd><td class=val><a href=\"http://www.wikidata.org/entity/Q52150156\" target=\"_other\">http://www.wikidata.org/entity/Q52150156</a></td>\n",
       "<td class=val>Arcturus Aldebaran Powers</td></tr><tr class=even><td class=val><a href=\"http://www.wikidata.org/entity/Q57251591\" target=\"_other\">http://www.wikidata.org/entity/Q57251591</a></td>\n",
       "<td class=val>Beerbohm</td></tr><tr class=odd><td class=val><a href=\"http://www.wikidata.org/entity/Q57623398\" target=\"_other\">http://www.wikidata.org/entity/Q57623398</a></td>\n",
       "<td class=val>Blackie</td></tr><tr class=even><td class=val><a href=\"http://www.wikidata.org/entity/Q27744042\" target=\"_other\">http://www.wikidata.org/entity/Q27744042</a></td>\n",
       "<td class=val>Bob</td></tr><tr class=odd><td class=val><a href=\"http://www.wikidata.org/entity/Q56471556\" target=\"_other\">http://www.wikidata.org/entity/Q56471556</a></td>\n",
       "<td class=val>Brigadier Broccoli</td></tr><tr class=even><td class=val><a href=\"http://www.wikidata.org/entity/Q14916910\" target=\"_other\">http://www.wikidata.org/entity/Q14916910</a></td>\n",
       "<td class=val>Buurtpoes Bledder</td></tr><tr class=odd><td class=val><a href=\"http://www.wikidata.org/entity/Q21426728\" target=\"_other\">http://www.wikidata.org/entity/Q21426728</a></td>\n",
       "<td class=val>Bébert</td></tr><tr class=even><td class=val><a href=\"http://www.wikidata.org/entity/Q378619\" target=\"_other\">http://www.wikidata.org/entity/Q378619</a></td>\n",
       "<td class=val>CC</td></tr><tr class=odd><td class=val><a href=\"http://www.wikidata.org/entity/Q5049074\" target=\"_other\">http://www.wikidata.org/entity/Q5049074</a></td>\n",
       "<td class=val>Casper</td></tr><tr class=even><td class=val><a href=\"http://www.wikidata.org/entity/Q1050083\" target=\"_other\">http://www.wikidata.org/entity/Q1050083</a></td>\n",
       "<td class=val>Catmando</td></tr><tr class=odd><td class=val><a href=\"http://www.wikidata.org/entity/Q5105465\" target=\"_other\">http://www.wikidata.org/entity/Q5105465</a></td>\n",
       "<td class=val>Choupette</td></tr><tr class=even><td class=val><a href=\"http://www.wikidata.org/entity/Q16605098\" target=\"_other\">http://www.wikidata.org/entity/Q16605098</a></td>\n",
       "<td class=val>Colonel Meow</td></tr><tr class=odd><td class=val><a href=\"http://www.wikidata.org/entity/Q21002390\" target=\"_other\">http://www.wikidata.org/entity/Q21002390</a></td>\n",
       "<td class=val>Corduroy</td></tr><tr class=even><td class=val><a href=\"http://www.wikidata.org/entity/Q2597104\" target=\"_other\">http://www.wikidata.org/entity/Q2597104</a></td>\n",
       "<td class=val>Creme Puff</td></tr><tr class=odd><td class=val><a href=\"http://www.wikidata.org/entity/Q51596094\" target=\"_other\">http://www.wikidata.org/entity/Q51596094</a></td>\n",
       "<td class=val>Crimean Tom</td></tr><tr class=even><td class=val><a href=\"http://www.wikidata.org/entity/Q1207136\" target=\"_other\">http://www.wikidata.org/entity/Q1207136</a></td>\n",
       "<td class=val>Dewey Readmore Books</td></tr><tr class=odd><td class=val><a href=\"http://www.wikidata.org/entity/Q16835794\" target=\"_other\">http://www.wikidata.org/entity/Q16835794</a></td>\n",
       "<td class=val>Dorofei</td></tr><tr class=even><td class=val><a href=\"http://www.wikidata.org/entity/Q5317221\" target=\"_other\">http://www.wikidata.org/entity/Q5317221</a></td>\n",
       "<td class=val>Dusty the Klepto Kitty</td></tr></table><div class=\"tinfo\">Total: 20, Shown: 20</div></div>"
      ]
     },
     "metadata": {},
     "output_type": "display_data"
    }
   ],
   "source": [
    "%endpoint https://query.wikidata.org/sparql\n",
    "\n",
    "PREFIX bd: <http://www.bigdata.com/rdf#>\n",
    "PREFIX wikibase: <http://wikiba.se/ontology#>\n",
    "PREFIX wd: <http://www.wikidata.org/entity/>\n",
    "PREFIX wdt: <http://www.wikidata.org/prop/direct/>\n",
    "#Chats\n",
    "\n",
    "SELECT ?item ?itemLabel \n",
    "WHERE \n",
    "{\n",
    "  ?item wdt:P31 wd:Q146.\n",
    "  SERVICE wikibase:label { bd:serviceParam wikibase:language \"[AUTO_LANGUAGE],en\". }\n",
    "}\n",
    "ORDER BY ?itemLabel\n",
    "LIMIT 20"
   ]
  },
  {
   "cell_type": "code",
   "execution_count": 3,
   "metadata": {},
   "outputs": [
    {
     "data": {
      "text/html": [
       "<div class=\"krn-spql\"><table><tr class=hdr><th>creatorqualifierLabel</th>\n",
       "<th>count</th></tr><tr class=odd><td class=val>George Dawe</td>\n",
       "<td class=val>144</td></tr><tr class=even><td class=val>David Klöcker Ehrenstrahl</td>\n",
       "<td class=val>120</td></tr><tr class=odd><td class=val>Rembrandt</td>\n",
       "<td class=val>107</td></tr><tr class=even><td class=val>Peter Paul Rubens</td>\n",
       "<td class=val>82</td></tr><tr class=odd><td class=val>David von Krafft</td>\n",
       "<td class=val>67</td></tr><tr class=even><td class=val>Anthony van Dyck</td>\n",
       "<td class=val>64</td></tr><tr class=odd><td class=val>Hieronymus Bosch</td>\n",
       "<td class=val>54</td></tr><tr class=even><td class=val>Corneille de Lyon</td>\n",
       "<td class=val>53</td></tr><tr class=odd><td class=val>David Teniers the Younger</td>\n",
       "<td class=val>46</td></tr><tr class=even><td class=val>Rogier van der Weyden</td>\n",
       "<td class=val>43</td></tr><tr class=odd><td class=val>Frans Hals</td>\n",
       "<td class=val>35</td></tr><tr class=even><td class=val>Titian</td>\n",
       "<td class=val>34</td></tr><tr class=odd><td class=val>Adriaen Brouwer</td>\n",
       "<td class=val>28</td></tr><tr class=even><td class=val>Jan Brueghel the Elder</td>\n",
       "<td class=val>26</td></tr><tr class=odd><td class=val>Jan van Eyck</td>\n",
       "<td class=val>25</td></tr><tr class=even><td class=val>Nicolas Poussin</td>\n",
       "<td class=val>25</td></tr><tr class=odd><td class=val>Pehr Hilleström</td>\n",
       "<td class=val>25</td></tr><tr class=even><td class=val>Johan Henrik Scheffel</td>\n",
       "<td class=val>24</td></tr><tr class=odd><td class=val>Dieric Bouts</td>\n",
       "<td class=val>24</td></tr><tr class=even><td class=val>Portuguese painter</td>\n",
       "<td class=val>23</td></tr></table><div class=\"tinfo\">Total: 20, Shown: 20</div></div>"
      ]
     },
     "metadata": {},
     "output_type": "display_data"
    }
   ],
   "source": [
    "#Peintres liés à des œuvres anonymes\n",
    "#Paintings by anonymous painters, but are related to some other painter\n",
    "#defaultView:BubbleChart\n",
    "SELECT ?creatorqualifierLabel (COUNT(?creatorqualifier) AS ?count) WHERE {\n",
    "  ?item wdt:P31 wd:Q3305213 .\n",
    "  ?item wdt:P170 wd:Q4233718 .\n",
    "  OPTIONAL { ?item p:P170 ?creatorstatement .\n",
    "             ?creatorstatement rdf:type\twikibase:BestRank .\n",
    "             ?creatorstatement ?qualifier ?creatorqualifier .\n",
    "             ?qualifierproperty wikibase:qualifier ?qualifier }\n",
    "  SERVICE wikibase:label { bd:serviceParam wikibase:language \"en\" }         \n",
    "  } GROUP BY ?creatorqualifierLabel\n",
    "HAVING (?count > 2)\n",
    "ORDER BY DESC(?count) \n",
    "LIMIT 20"
   ]
  },
  {
   "cell_type": "markdown",
   "metadata": {},
   "source": [
    "## Sculpteurs nés à Paris et fils de peintres"
   ]
  },
  {
   "cell_type": "code",
   "execution_count": 14,
   "metadata": {},
   "outputs": [
    {
     "data": {
      "text/html": [
       "<div class=\"krn-spql\"><table><tr class=hdr><th>filsDe</th>\n",
       "<th>filsDeLabel</th>\n",
       "<th>anneeNaissance</th></tr><tr class=odd><td class=val><a href=\"http://www.wikidata.org/entity/Q5607236\" target=\"_other\">http://www.wikidata.org/entity/Q5607236</a></td>\n",
       "<td class=val>René Chauveau</td>\n",
       "<td class=val>1663</td></tr><tr class=even><td class=val><a href=\"http://www.wikidata.org/entity/Q2913661\" target=\"_other\">http://www.wikidata.org/entity/Q2913661</a></td>\n",
       "<td class=val>Louis August le Clerc</td>\n",
       "<td class=val>1688</td></tr><tr class=odd><td class=val><a href=\"http://www.wikidata.org/entity/Q1351180\" target=\"_other\">http://www.wikidata.org/entity/Q1351180</a></td>\n",
       "<td class=val>Guillaume Coustou the Younger</td>\n",
       "<td class=val>1716</td></tr><tr class=even><td class=val><a href=\"http://www.wikidata.org/entity/Q3172432\" target=\"_other\">http://www.wikidata.org/entity/Q3172432</a></td>\n",
       "<td class=val>Jean Guillaume Moitte</td>\n",
       "<td class=val>1746</td></tr><tr class=odd><td class=val><a href=\"http://www.wikidata.org/entity/Q2868629\" target=\"_other\">http://www.wikidata.org/entity/Q2868629</a></td>\n",
       "<td class=val>Astyanax Scaevola Bosio</td>\n",
       "<td class=val>1793</td></tr><tr class=even><td class=val><a href=\"http://www.wikidata.org/entity/Q36541371\" target=\"_other\">http://www.wikidata.org/entity/Q36541371</a></td>\n",
       "<td class=val>Jean-Jules-César Laurent</td>\n",
       "<td class=val>1800</td></tr><tr class=odd><td class=val><a href=\"http://www.wikidata.org/entity/Q18818793\" target=\"_other\">http://www.wikidata.org/entity/Q18818793</a></td>\n",
       "<td class=val>Léopold Hugo</td>\n",
       "<td class=val>1828</td></tr><tr class=even><td class=val><a href=\"http://www.wikidata.org/entity/Q5788598\" target=\"_other\">http://www.wikidata.org/entity/Q5788598</a></td>\n",
       "<td class=val>Cornelia Scheffer</td>\n",
       "<td class=val>1830</td></tr><tr class=odd><td class=val><a href=\"http://www.wikidata.org/entity/Q20644763\" target=\"_other\">http://www.wikidata.org/entity/Q20644763</a></td>\n",
       "<td class=val>Alfred Barye</td>\n",
       "<td class=val>1839</td></tr><tr class=even><td class=val><a href=\"http://www.wikidata.org/entity/Q2834901\" target=\"_other\">http://www.wikidata.org/entity/Q2834901</a></td>\n",
       "<td class=val>Alfred Lenoir</td>\n",
       "<td class=val>1850</td></tr><tr class=odd><td class=val><a href=\"http://www.wikidata.org/entity/Q29519354\" target=\"_other\">http://www.wikidata.org/entity/Q29519354</a></td>\n",
       "<td class=val>Marcella Lancelot Croce</td>\n",
       "<td class=val>1854</td></tr><tr class=even><td class=val><a href=\"http://www.wikidata.org/entity/Q15970346\" target=\"_other\">http://www.wikidata.org/entity/Q15970346</a></td>\n",
       "<td class=val>Michel Cazin</td>\n",
       "<td class=val>1869</td></tr><tr class=odd><td class=val><a href=\"http://www.wikidata.org/entity/Q3720174\" target=\"_other\">http://www.wikidata.org/entity/Q3720174</a></td>\n",
       "<td class=val>Jean René Gauguin</td>\n",
       "<td class=val>1881</td></tr><tr class=even><td class=val><a href=\"http://www.wikidata.org/entity/Q3302669\" target=\"_other\">http://www.wikidata.org/entity/Q3302669</a></td>\n",
       "<td class=val>Maxime Real del Sarte</td>\n",
       "<td class=val>1888</td></tr><tr class=odd><td class=val><a href=\"http://www.wikidata.org/entity/Q23636731\" target=\"_other\">http://www.wikidata.org/entity/Q23636731</a></td>\n",
       "<td class=val>Jean-René Carrière</td>\n",
       "<td class=val>1888</td></tr><tr class=even><td class=val><a href=\"http://www.wikidata.org/entity/Q1808028\" target=\"_other\">http://www.wikidata.org/entity/Q1808028</a></td>\n",
       "<td class=val>Laurence Vail</td>\n",
       "<td class=val>1891</td></tr><tr class=odd><td class=val><a href=\"http://www.wikidata.org/entity/Q27629395\" target=\"_other\">http://www.wikidata.org/entity/Q27629395</a></td>\n",
       "<td class=val>Germaine Desgrange</td>\n",
       "<td class=val>1892</td></tr><tr class=even><td class=val><a href=\"http://www.wikidata.org/entity/Q18530361\" target=\"_other\">http://www.wikidata.org/entity/Q18530361</a></td>\n",
       "<td class=val>Maurice Lambert</td>\n",
       "<td class=val>1901</td></tr><tr class=odd><td class=val><a href=\"http://www.wikidata.org/entity/Q20803756\" target=\"_other\">http://www.wikidata.org/entity/Q20803756</a></td>\n",
       "<td class=val>Pierre Bourdelle</td>\n",
       "<td class=val>1901</td></tr><tr class=even><td class=val><a href=\"http://www.wikidata.org/entity/Q3310854\" target=\"_other\">http://www.wikidata.org/entity/Q3310854</a></td>\n",
       "<td class=val>Michel Serraz</td>\n",
       "<td class=val>1925</td></tr></table><div class=\"tinfo\">Total: 23, Shown: 20</div></div>"
      ]
     },
     "metadata": {},
     "output_type": "display_data"
    }
   ],
   "source": [
    "#Utilisation des propriétés de contrôle d’autorité pour les peintres\n",
    "# Make a list of the most used authority control properties for people for painters\n",
    "SELECT DISTINCT ?filsDe ?filsDeLabel ?anneeNaissance WHERE {\n",
    " ?filsDe wdt:P106 wd:Q1281618 ;\n",
    "         wdt:P19 wd:Q90 ;\n",
    "         wdt:P569 ?dateNaissance .\n",
    " ?parent wdt:P40 ?filsDe ;\n",
    "         wdt:P106 wd:Q1028181 .\n",
    " SERVICE wikibase:label { bd:serviceParam wikibase:language \"[AUTO_LANGUAGE],en\". }\n",
    " BIND(YEAR(?dateNaissance) as ?anneeNaissance)\n",
    "} ORDER BY ASC(?anneeNaissance)"
   ]
  },
  {
   "cell_type": "markdown",
   "metadata": {},
   "source": [
    "Quelle est la ville où sont nés le plus de peintres fils de peintre ?"
   ]
  },
  {
   "cell_type": "code",
   "execution_count": 4,
   "metadata": {},
   "outputs": [
    {
     "data": {
      "text/html": [
       "<div class=\"krn-spql\"><table><tr class=hdr><th>nombrePeintre</th>\n",
       "<th>lieuNaissance</th>\n",
       "<th>lieuNaissanceLabel</th></tr><tr class=odd><td class=val>181</td>\n",
       "<td class=val><a href=\"http://www.wikidata.org/entity/Q90\" target=\"_other\">http://www.wikidata.org/entity/Q90</a></td>\n",
       "<td class=val>Paris</td></tr><tr class=even><td class=val>112</td>\n",
       "<td class=val><a href=\"http://www.wikidata.org/entity/Q12892\" target=\"_other\">http://www.wikidata.org/entity/Q12892</a></td>\n",
       "<td class=val>Antwerp</td></tr><tr class=odd><td class=val>90</td>\n",
       "<td class=val><a href=\"http://www.wikidata.org/entity/Q84\" target=\"_other\">http://www.wikidata.org/entity/Q84</a></td>\n",
       "<td class=val>London</td></tr><tr class=even><td class=val>83</td>\n",
       "<td class=val><a href=\"http://www.wikidata.org/entity/Q727\" target=\"_other\">http://www.wikidata.org/entity/Q727</a></td>\n",
       "<td class=val>Amsterdam</td></tr><tr class=odd><td class=val>52</td>\n",
       "<td class=val><a href=\"http://www.wikidata.org/entity/Q9920\" target=\"_other\">http://www.wikidata.org/entity/Q9920</a></td>\n",
       "<td class=val>Haarlem</td></tr><tr class=even><td class=val>49</td>\n",
       "<td class=val><a href=\"http://www.wikidata.org/entity/Q36600\" target=\"_other\">http://www.wikidata.org/entity/Q36600</a></td>\n",
       "<td class=val>The Hague</td></tr><tr class=odd><td class=val>46</td>\n",
       "<td class=val><a href=\"http://www.wikidata.org/entity/Q1754\" target=\"_other\">http://www.wikidata.org/entity/Q1754</a></td>\n",
       "<td class=val>Stockholm</td></tr><tr class=even><td class=val>35</td>\n",
       "<td class=val><a href=\"http://www.wikidata.org/entity/Q1748\" target=\"_other\">http://www.wikidata.org/entity/Q1748</a></td>\n",
       "<td class=val>Copenhagen</td></tr><tr class=odd><td class=val>34</td>\n",
       "<td class=val><a href=\"http://www.wikidata.org/entity/Q1741\" target=\"_other\">http://www.wikidata.org/entity/Q1741</a></td>\n",
       "<td class=val>Vienna</td></tr><tr class=even><td class=val>32</td>\n",
       "<td class=val><a href=\"http://www.wikidata.org/entity/Q220\" target=\"_other\">http://www.wikidata.org/entity/Q220</a></td>\n",
       "<td class=val>Rome</td></tr></table><div class=\"tinfo\">Total: 10, Shown: 10</div></div>"
      ]
     },
     "metadata": {},
     "output_type": "display_data"
    }
   ],
   "source": [
    "#Utilisation des propriétés de contrôle d’autorité pour les peintres\n",
    "# Make a list of the most used authority control properties for people for painters\n",
    "SELECT DISTINCT (count(?filsDe) as ?nombrePeintre) ?lieuNaissance ?lieuNaissanceLabel WHERE {\n",
    " ?filsDe wdt:P106 wd:Q1028181 ;\n",
    "         wdt:P19 ?lieuNaissance .\n",
    " ?parent wdt:P40 ?filsDe ;\n",
    "         wdt:P106 wd:Q1028181 .\n",
    " SERVICE wikibase:label { bd:serviceParam wikibase:language \"[AUTO_LANGUAGE],en\". }\n",
    "} \n",
    "GROUP BY ?lieuNaissance ?lieuNaissanceLabel\n",
    "ORDER BY DESC(?nombrePeintre)\n",
    "LIMIT 10"
   ]
  },
  {
   "cell_type": "markdown",
   "metadata": {},
   "source": [
    "Des quelles villes sont majoritairement issus le parents des peintres ?"
   ]
  },
  {
   "cell_type": "code",
   "execution_count": 24,
   "metadata": {},
   "outputs": [
    {
     "data": {
      "text/html": [
       "<div class=\"krn-spql\"><table><tr class=hdr><th>nombreParent</th>\n",
       "<th>lieuNaissance</th>\n",
       "<th>lieuNaissanceLabel</th></tr><tr class=odd><td class=val>177</td>\n",
       "<td class=val><a href=\"http://www.wikidata.org/entity/Q90\" target=\"_other\">http://www.wikidata.org/entity/Q90</a></td>\n",
       "<td class=val>Paris</td></tr><tr class=even><td class=val>122</td>\n",
       "<td class=val><a href=\"http://www.wikidata.org/entity/Q12892\" target=\"_other\">http://www.wikidata.org/entity/Q12892</a></td>\n",
       "<td class=val>Anvers</td></tr><tr class=odd><td class=val>113</td>\n",
       "<td class=val><a href=\"http://www.wikidata.org/entity/Q84\" target=\"_other\">http://www.wikidata.org/entity/Q84</a></td>\n",
       "<td class=val>Londres</td></tr><tr class=even><td class=val>86</td>\n",
       "<td class=val><a href=\"http://www.wikidata.org/entity/Q727\" target=\"_other\">http://www.wikidata.org/entity/Q727</a></td>\n",
       "<td class=val>Amsterdam</td></tr><tr class=odd><td class=val>67</td>\n",
       "<td class=val><a href=\"http://www.wikidata.org/entity/Q1754\" target=\"_other\">http://www.wikidata.org/entity/Q1754</a></td>\n",
       "<td class=val>Stockholm</td></tr><tr class=even><td class=val>44</td>\n",
       "<td class=val><a href=\"http://www.wikidata.org/entity/Q36600\" target=\"_other\">http://www.wikidata.org/entity/Q36600</a></td>\n",
       "<td class=val>La Haye</td></tr><tr class=odd><td class=val>40</td>\n",
       "<td class=val><a href=\"http://www.wikidata.org/entity/Q9920\" target=\"_other\">http://www.wikidata.org/entity/Q9920</a></td>\n",
       "<td class=val>Haarlem</td></tr><tr class=even><td class=val>38</td>\n",
       "<td class=val><a href=\"http://www.wikidata.org/entity/Q1748\" target=\"_other\">http://www.wikidata.org/entity/Q1748</a></td>\n",
       "<td class=val>Copenhague</td></tr><tr class=odd><td class=val>37</td>\n",
       "<td class=val><a href=\"http://www.wikidata.org/entity/Q1085\" target=\"_other\">http://www.wikidata.org/entity/Q1085</a></td>\n",
       "<td class=val>Prague</td></tr><tr class=even><td class=val>35</td>\n",
       "<td class=val><a href=\"http://www.wikidata.org/entity/Q1741\" target=\"_other\">http://www.wikidata.org/entity/Q1741</a></td>\n",
       "<td class=val>Vienne</td></tr><tr class=odd><td class=val>30</td>\n",
       "<td class=val><a href=\"http://www.wikidata.org/entity/Q64\" target=\"_other\">http://www.wikidata.org/entity/Q64</a></td>\n",
       "<td class=val>Berlin</td></tr><tr class=even><td class=val>28</td>\n",
       "<td class=val><a href=\"http://www.wikidata.org/entity/Q220\" target=\"_other\">http://www.wikidata.org/entity/Q220</a></td>\n",
       "<td class=val>Rome</td></tr><tr class=odd><td class=val>26</td>\n",
       "<td class=val><a href=\"http://www.wikidata.org/entity/Q656\" target=\"_other\">http://www.wikidata.org/entity/Q656</a></td>\n",
       "<td class=val>Saint-Pétersbourg</td></tr><tr class=even><td class=val>25</td>\n",
       "<td class=val><a href=\"http://www.wikidata.org/entity/Q9005\" target=\"_other\">http://www.wikidata.org/entity/Q9005</a></td>\n",
       "<td class=val>Bruxelles</td></tr><tr class=odd><td class=val>24</td>\n",
       "<td class=val><a href=\"http://www.wikidata.org/entity/Q649\" target=\"_other\">http://www.wikidata.org/entity/Q649</a></td>\n",
       "<td class=val>Moscou</td></tr><tr class=even><td class=val>24</td>\n",
       "<td class=val><a href=\"http://www.wikidata.org/entity/Q803\" target=\"_other\">http://www.wikidata.org/entity/Q803</a></td>\n",
       "<td class=val>Utrecht</td></tr><tr class=odd><td class=val>23</td>\n",
       "<td class=val><a href=\"http://www.wikidata.org/entity/Q1953\" target=\"_other\">http://www.wikidata.org/entity/Q1953</a></td>\n",
       "<td class=val>Erevan</td></tr><tr class=even><td class=val>22</td>\n",
       "<td class=val><a href=\"http://www.wikidata.org/entity/Q641\" target=\"_other\">http://www.wikidata.org/entity/Q641</a></td>\n",
       "<td class=val>Venise</td></tr><tr class=odd><td class=val>22</td>\n",
       "<td class=val><a href=\"http://www.wikidata.org/entity/Q994\" target=\"_other\">http://www.wikidata.org/entity/Q994</a></td>\n",
       "<td class=val>Tbilissi</td></tr><tr class=even><td class=val>21</td>\n",
       "<td class=val><a href=\"http://www.wikidata.org/entity/Q1055\" target=\"_other\">http://www.wikidata.org/entity/Q1055</a></td>\n",
       "<td class=val>Hambourg</td></tr></table><div class=\"tinfo\">Total: 100, Shown: 20</div></div>"
      ]
     },
     "metadata": {},
     "output_type": "display_data"
    }
   ],
   "source": [
    "#Utilisation des propriétés de contrôle d’autorité pour les peintres\n",
    "# Make a list of the most used authority control properties for people for painters\n",
    "SELECT DISTINCT (count(?parent) as ?nombreParent) ?lieuNaissance ?lieuNaissanceLabel WHERE {\n",
    " ?filsDe wdt:P106 wd:Q1028181 .\n",
    " ?parent wdt:P40 ?filsDe ;\n",
    "         wdt:P19 ?lieuNaissance .\n",
    " SERVICE wikibase:label { bd:serviceParam wikibase:language \"[AUTO_LANGUAGE],fr\". }\n",
    "} \n",
    "GROUP BY ?lieuNaissance ?lieuNaissanceLabel\n",
    "ORDER BY DESC(?nombreParent)\n",
    "LIMIT 100"
   ]
  },
  {
   "cell_type": "code",
   "execution_count": null,
   "metadata": {},
   "outputs": [],
   "source": []
  }
 ],
 "metadata": {
  "kernelspec": {
   "display_name": "SPARQL",
   "language": "sparql",
   "name": "sparql"
  },
  "language_info": {
   "codemirror_mode": {
    "name": "sparql"
   },
   "mimetype": "application/sparql-query",
   "name": "sparql",
   "pygments_lexer": "sparql-nb"
  }
 },
 "nbformat": 4,
 "nbformat_minor": 2
}
