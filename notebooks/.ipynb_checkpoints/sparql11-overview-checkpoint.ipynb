{
 "cells": [
  {
   "cell_type": "markdown",
   "metadata": {},
   "source": [
    "# SPARQL 1.1 Overview\n",
    "\n",
    "> Exemples tirés de <https://www.w3.org/TR/sparql11-overview/>\n",
    "\n",
    "## Exemple\n",
    "\n",
    "Les informations utilisée dans le _Triple-Store_ sont constituées par le graphe suivant:\n",
    "\n",
    "```turtle\n",
    "@prefix foaf: <http://xmlns.com/foaf/0.1/> .\n",
    "@prefix rdfs: <http://www.w3.org/2000/01/rdf-schema#> .\n",
    "\n",
    "<http://example.org/alice#me> a foaf:Person .\n",
    "<http://example.org/alice#me> foaf:name \"Alice\" .\n",
    "<http://example.org/alice#me> foaf:mbox <mailto:alice@example.org> .\n",
    "<http://example.org/alice#me> foaf:knows <http://example.org/bob#me> .\n",
    "<http://example.org/bob#me> foaf:knows <http://example.org/alice#me> .\n",
    "<http://example.org/bob#me> foaf:name \"Bob\" .\n",
    "<http://example.org/alice#me> foaf:knows <http://example.org/charlie#me> .\n",
    "<http://example.org/charlie#me> foaf:knows <http://example.org/alice#me> .\n",
    "<http://example.org/charlie#me> foaf:name \"Charlie\" .\n",
    "<http://example.org/alice#me> foaf:knows <http://example.org/snoopy> .\n",
    "<http://example.org/snoopy> foaf:name \"Snoopy\"@en .\n",
    "```"
   ]
  },
  {
   "cell_type": "markdown",
   "metadata": {},
   "source": [
    "\n",
    "---\n",
    "\n",
    "## Première requête\n",
    "\n",
    "A ce stade, les information sont stockées. Maintenant il suffit de les sélectionner. Un autre point d'accès est choisi (en lecture) pour faire les requêtes: `http://sparql:3030/sparql-overview/sparql`."
   ]
  },
  {
   "cell_type": "code",
   "execution_count": null,
   "metadata": {},
   "outputs": [],
   "source": [
    "%endpoint http://sparql:3030/sparql-overview/sparql\n",
    "\n",
    "PREFIX foaf: <http://xmlns.com/foaf/0.1/>\n",
    "SELECT ?name (COUNT(?friend) AS ?count)\n",
    "WHERE { \n",
    "    ?person foaf:name ?name . \n",
    "    ?person foaf:knows ?friend . \n",
    "} GROUP BY ?person ?name"
   ]
  },
  {
   "cell_type": "markdown",
   "metadata": {},
   "source": [
    "## Formats\n",
    "\n",
    "Les données peuvent être exportées en plusieurs formats\n",
    "\n",
    "### Format XML"
   ]
  },
  {
   "cell_type": "code",
   "execution_count": null,
   "metadata": {},
   "outputs": [],
   "source": [
    "%display raw\n",
    "\n",
    "PREFIX foaf: <http://xmlns.com/foaf/0.1/>\n",
    "SELECT ?name (COUNT(?friend) AS ?count)\n",
    "WHERE { \n",
    "    ?person foaf:name ?name . \n",
    "    ?person foaf:knows ?friend . \n",
    "} GROUP BY ?person ?name"
   ]
  },
  {
   "cell_type": "markdown",
   "metadata": {},
   "source": [
    "### Format JSON"
   ]
  },
  {
   "cell_type": "code",
   "execution_count": null,
   "metadata": {},
   "outputs": [],
   "source": [
    "%format json\n",
    "%display RAW\n",
    "\n",
    "PREFIX foaf: <http://xmlns.com/foaf/0.1/>\n",
    "SELECT ?name (COUNT(?friend) AS ?count)\n",
    "WHERE { \n",
    "    ?person foaf:name ?name . \n",
    "    ?person foaf:knows ?friend . \n",
    "} GROUP BY ?person ?name"
   ]
  },
  {
   "cell_type": "markdown",
   "metadata": {},
   "source": [
    "\n",
    "---\n",
    "\n",
    "## Requêtes Fédérées\n",
    "\n",
    "Certaines sous-requêtes peuvent être déléguées à d'autres points d'accès sparql"
   ]
  },
  {
   "cell_type": "code",
   "execution_count": null,
   "metadata": {},
   "outputs": [],
   "source": [
    "%format any\n",
    "%display table\n",
    "\n",
    "PREFIX foaf: <http://xmlns.com/foaf/0.1/>\n",
    "SELECT ?name\n",
    "WHERE {\n",
    "    <http://example.org/alice#me> foaf:knows [\n",
    "        foaf:name ?name\n",
    "    ] .\n",
    "    SERVICE <http://dbpedia.org/sparql> { \n",
    "        <http://dbpedia.org/resource/Snoopy> foaf:name ?name \n",
    "    }\n",
    "}"
   ]
  },
  {
   "cell_type": "markdown",
   "metadata": {},
   "source": [
    "\n",
    "---\n",
    "\n",
    "## Raisonnement\n",
    "\n",
    "Comme `foaf:name` est `rdfs:subPropertyOf` de `rdfs:label` _(et que le raisonnement est activé dans la configuration du stockage)_:"
   ]
  },
  {
   "cell_type": "code",
   "execution_count": null,
   "metadata": {},
   "outputs": [],
   "source": [
    "%endpoint http://sparql:3030/sparql-overview/sparql\n",
    "\n",
    "prefix rdfs: <http://www.w3.org/2000/01/rdf-schema#>\n",
    "PREFIX foaf: <http://xmlns.com/foaf/0.1/>\n",
    "\n",
    "\n",
    "SELECT ?person ?label \n",
    "WHERE { \n",
    "    ?person a foaf:Person ;\n",
    "              rdfs:label ?label \n",
    "}"
   ]
  }
 ],
 "metadata": {
  "kernelspec": {
   "display_name": "SPARQL",
   "language": "sparql",
   "name": "sparql"
  },
  "language_info": {
   "codemirror_mode": {
    "name": "sparql"
   },
   "mimetype": "application/sparql-query",
   "name": "sparql",
   "pygments_lexer": "sparql-nb"
  }
 },
 "nbformat": 4,
 "nbformat_minor": 2
}
